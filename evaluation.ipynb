{
 "cells": [
  {
   "cell_type": "markdown",
   "metadata": {},
   "source": [
    "# Evaluation pipeline\n",
    "This file is for an evaluation pipeline. To avoid conflicts, after merging data processing and training to main.ipynb,\n",
    "I'll merge this code to main.ipynb."
   ]
  },
  {
   "cell_type": "code",
   "execution_count": 33,
   "metadata": {},
   "outputs": [
    {
     "name": "stdout",
     "output_type": "stream",
     "text": [
      "    TEAM_A_ID   TEAM_B_ID  TEAM_A_WIN\n",
      "0  1610612759  1610612764           1\n",
      "1  1610612739  1610612752           1\n",
      "2  1610612758  1610612743           1\n",
      "3  1610612742  1610612758           0\n",
      "4  1610612752  1610612764           1\n",
      "5  1610612745  1610612743           0\n",
      "6  1610612758  1610612759           1\n",
      "7  1610612743  1610612752           1\n",
      "8  1610612759  1610612739           0\n",
      "9  1610612739  1610612743           0\n",
      "\n",
      "    TEAM_A_ID   TEAM_B_ID  TEAM_A_WIN\n",
      "0  1610612759  1610612764           1\n",
      "1  1610612739  1610612752           0\n",
      "2  1610612758  1610612743           1\n",
      "3  1610612742  1610612758           0\n",
      "4  1610612752  1610612764           1\n",
      "5  1610612745  1610612743           0\n",
      "6  1610612758  1610612759           1\n",
      "7  1610612743  1610612752           0\n",
      "8  1610612759  1610612739           1\n",
      "9  1610612739  1610612743           0\n"
     ]
    }
   ],
   "source": [
    "import pandas as pd\n",
    "\n",
    "pred = pd.read_csv(\"dataset/dummy_pred.csv\")\n",
    "true = pd.read_csv(\"dataset/dummy_true.csv\")\n",
    "print(pred)\n",
    "print()\n",
    "print(true)"
   ]
  },
  {
   "cell_type": "code",
   "execution_count": 34,
   "metadata": {},
   "outputs": [
    {
     "name": "stdout",
     "output_type": "stream",
     "text": [
      "Accuracy: 0.7\n",
      "Precision: 0.6666666666666666\n",
      "Recall: 0.8\n",
      "F1-Score: 0.7272727272727273\n"
     ]
    }
   ],
   "source": [
    "from sklearn.metrics import accuracy_score, precision_score, recall_score, f1_score\n",
    "\n",
    "y_pred = pred[\"TEAM_A_WIN\"]\n",
    "y_true = true[\"TEAM_A_WIN\"]\n",
    "\n",
    "# Calculate accuracy\n",
    "accuracy = accuracy_score(y_true, y_pred)\n",
    "# Calculate precision\n",
    "precision = precision_score(y_true, y_pred)\n",
    "# Calculate recall\n",
    "recall = recall_score(y_true, y_pred)\n",
    "# Calculate F1-score\n",
    "f1 = f1_score(y_true, y_pred)\n",
    "\n",
    "print(\"Accuracy:\", accuracy)\n",
    "print(\"Precision:\", precision)\n",
    "print(\"Recall:\", recall)\n",
    "print(\"F1-Score:\", f1)"
   ]
  },
  {
   "cell_type": "code",
   "execution_count": 35,
   "metadata": {},
   "outputs": [
    {
     "data": {
      "text/plain": [
       "<sklearn.metrics._plot.confusion_matrix.ConfusionMatrixDisplay at 0x7fbcfdaa9dd0>"
      ]
     },
     "execution_count": 35,
     "metadata": {},
     "output_type": "execute_result"
    },
    {
     "data": {
      "image/png": "[encoded data removed]",
      "text/plain": [
       "<Figure size 640x480 with 2 Axes>"
      ]
     },
     "metadata": {},
     "output_type": "display_data"
    }
   ],
   "source": [
    "from sklearn.metrics import confusion_matrix, ConfusionMatrixDisplay\n",
    "\n",
    "cm = confusion_matrix(y_true, y_pred)\n",
    "disp = ConfusionMatrixDisplay(confusion_matrix=cm)\n",
    "disp.plot()"
   ]
  }
 ],
 "metadata": {
  "kernelspec": {
   "display_name": "unet",
   "language": "python",
   "name": "python3"
  },
  "language_info": {
   "codemirror_mode": {
    "name": "ipython",
    "version": 3
   },
   "file_extension": ".py",
   "mimetype": "text/x-python",
   "name": "python",
   "nbconvert_exporter": "python",
   "pygments_lexer": "ipython3",
   "version": "3.11.11"
  }
 },
 "nbformat": 4,
 "nbformat_minor": 2
}
